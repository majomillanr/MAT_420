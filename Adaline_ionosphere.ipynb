{
 "cells": [
  {
   "cell_type": "code",
   "execution_count": 1,
   "id": "be02d770-081e-43bc-b07a-0dddb828033a",
   "metadata": {},
   "outputs": [],
   "source": [
    "import numpy as np\n",
    "import matplotlib.pyplot as plt\n",
    "from matplotlib.colors import ListedColormap\n",
    "import torch\n",
    "import torch.nn as nn\n",
    "from sklearn import datasets\n",
    "from sklearn.model_selection import train_test_split\n",
    "from sklearn.linear_model import LogisticRegression, SGDClassifier\n",
    "from sklearn.preprocessing import StandardScaler\n",
    "from sklearn.metrics import confusion_matrix\n",
    "import pandas as pd\n",
    "import seaborn as sns\n",
    "\n",
    "import warnings\n",
    "warnings.filterwarnings(\"ignore\")"
   ]
  },
  {
   "cell_type": "code",
   "execution_count": 12,
   "id": "e4064666-b303-4464-a64a-e763023b1a87",
   "metadata": {},
   "outputs": [
    {
     "data": {
      "text/plain": [
       "(351, 34)"
      ]
     },
     "execution_count": 12,
     "metadata": {},
     "output_type": "execute_result"
    }
   ],
   "source": [
    "dataset=pd.read_csv('ionosphere.csv')\n",
    "X,y= dataset.iloc[ :,:-1], dataset.iloc[:, -1]\n",
    "X.shape"
   ]
  },
  {
   "cell_type": "code",
   "execution_count": 3,
   "id": "3caed442-e491-4c6a-ae73-1285a3da06b4",
   "metadata": {},
   "outputs": [],
   "source": [
    "X_train, X_test, y_train, y_test = train_test_split(X, y, test_size=0.20)\n",
    "sc=StandardScaler()\n",
    "\n",
    "X_train=sc.fit_transform(X_train)\n",
    "X_test=sc.transform(X_test)"
   ]
  },
  {
   "cell_type": "code",
   "execution_count": 7,
   "id": "16273e8e-f0df-4f38-a010-96bfe48f1084",
   "metadata": {},
   "outputs": [],
   "source": [
    "class Adaline:\n",
    "    def __init__(self, lr=0.01, n_epoch=150):\n",
    "        self.lr=lr\n",
    "        self.n_epoch=n_epoch\n",
    "        self.weight=None\n",
    "        self.bias=None\n",
    "\n",
    "    def __func__(self, X):\n",
    "        return np.dot(X, self.weight)+self.bias\n",
    "        \n",
    "    def fit(self, X, y):\n",
    "        self.weight=np.zeros(X.shape[1])\n",
    "        self.bias=0.\n",
    "\n",
    "        for _ in range(self.n_epoch):\n",
    "            output=self.__func__(X)\n",
    "            error = output-y\n",
    "            dw=2*np.dot(error,X)/X.shape[0]\n",
    "            db=2*error.mean()\n",
    "\n",
    "            self.weight=self.weight-self.lr*dw\n",
    "            self.bias-=self.lr*db\n",
    "            \n",
    "    def predict(self, X):\n",
    "        return np.where(self.__func__(X)>=0.5, 1,0)"
   ]
  },
  {
   "cell_type": "code",
   "execution_count": 8,
   "id": "1968eb1a-39ff-4666-bf85-42b01308d95b",
   "metadata": {},
   "outputs": [
    {
     "data": {
      "text/plain": [
       "array([[15,  8],\n",
       "       [ 5, 43]])"
      ]
     },
     "execution_count": 8,
     "metadata": {},
     "output_type": "execute_result"
    }
   ],
   "source": [
    "ada=Adaline(n_epoch=300)\n",
    "ada.fit(X_train, y_train)\n",
    "confusion_matrix(y_test, ada.predict(X_test))"
   ]
  },
  {
   "cell_type": "code",
   "execution_count": 13,
   "id": "0846cd5b-2319-4a1b-af7f-c0188f4a4dfd",
   "metadata": {},
   "outputs": [],
   "source": [
    "def plot_decision_boundary(X, y, model, resolution=0.02):\n",
    "    colors = ['red', 'blue', 'lightgreen', 'gray', 'cyan']\n",
    "    cmap = ListedColormap(colors[:len(np.unique(y))])\n",
    "    markers = ('s', 'x', 'o', '^', 'v')      \n",
    "    \n",
    "    x_min, x_max = X[:,0].min()-1, X[:,0].max()+1\n",
    "    y_min, y_max = X[:,1].min()-1, X[:,1].max()+1\n",
    "\n",
    "    xx, yy = np.meshgrid(np.arange(x_min, x_max, resolution), np.arange(y_min, y_max, resolution))\n",
    "    Z = model.predict(np.c_[xx.ravel(), yy.ravel()])\n",
    "    Z = Z.reshape(xx.shape)\n",
    "    plt.contourf(xx, yy, Z, alpha=0.3, cmap=cmap)\n",
    "    plt.xlim(xx.min(), xx.max())\n",
    "    plt.ylim(yy.min(), yy.max())\n",
    "\n",
    "\n",
    "    for idx, cl in enumerate(np.unique(y)): \n",
    "        plt.scatter(X[y==cl, 0], X[y==cl, 1],  color=cmap(idx),edgecolors='k',marker=markers[idx],label=cl)"
   ]
  },
  {
   "cell_type": "code",
   "execution_count": 16,
   "id": "073dae9f-00a9-46b7-bb53-37c09479153e",
   "metadata": {},
   "outputs": [
    {
     "data": {
      "text/plain": [
       "array([[19,  5],\n",
       "       [ 1, 46]])"
      ]
     },
     "execution_count": 16,
     "metadata": {},
     "output_type": "execute_result"
    }
   ],
   "source": [
    "\n",
    "\n",
    "X_train, X_test, y_train, y_test = train_test_split(X, y, test_size=0.20)\n",
    "sc=StandardScaler()\n",
    "\n",
    "X_train=sc.fit_transform(X_train)\n",
    "X_test=sc.transform(X_test)\n",
    "\n",
    "ada_full=Adaline()\n",
    "ada_full.fit(X_train, y_train)\n",
    "confusion_matrix(y_test, ada_full.predict(X_test))"
   ]
  },
  {
   "cell_type": "code",
   "execution_count": null,
   "id": "ef822a37-9c33-440c-8487-e85ff539e5c9",
   "metadata": {},
   "outputs": [],
   "source": []
  }
 ],
 "metadata": {
  "kernelspec": {
   "display_name": "Python [conda env:base] *",
   "language": "python",
   "name": "conda-base-py"
  },
  "language_info": {
   "codemirror_mode": {
    "name": "ipython",
    "version": 3
   },
   "file_extension": ".py",
   "mimetype": "text/x-python",
   "name": "python",
   "nbconvert_exporter": "python",
   "pygments_lexer": "ipython3",
   "version": "3.13.5"
  }
 },
 "nbformat": 4,
 "nbformat_minor": 5
}
