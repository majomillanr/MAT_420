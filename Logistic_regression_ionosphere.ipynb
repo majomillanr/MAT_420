{
 "cells": [
  {
   "cell_type": "code",
   "execution_count": 11,
   "id": "bb0e1000-cf6d-4773-86a4-c0bca86ebaa7",
   "metadata": {},
   "outputs": [],
   "source": [
    "\t\n",
    "import numpy as np\n",
    "import matplotlib.pyplot as plt\n",
    "from matplotlib.colors import ListedColormap\n",
    "import torch\n",
    "import torch.nn as nn\n",
    "from sklearn import datasets\n",
    "from sklearn.model_selection import train_test_split\n",
    "from sklearn.linear_model import LogisticRegression, SGDClassifier\n",
    "from sklearn.preprocessing import StandardScaler\n",
    "from sklearn.metrics import confusion_matrix\n",
    "import pandas as pd\n",
    "import seaborn as sns\n",
    "\n",
    "import warnings\n",
    "warnings.filterwarnings(\"ignore\")"
   ]
  },
  {
   "cell_type": "code",
   "execution_count": 15,
   "id": "4495ce82-27e3-40e6-a1c1-21c64b93b1f9",
   "metadata": {},
   "outputs": [
    {
     "data": {
      "text/plain": [
       "(351, 34)"
      ]
     },
     "execution_count": 15,
     "metadata": {},
     "output_type": "execute_result"
    }
   ],
   "source": [
    "df=pd.read_csv('ionosphere.csv')\n",
    "X,y= dataset.iloc[ :,:-1], dataset.iloc[:, -1]\n",
    "X.shape"
   ]
  },
  {
   "cell_type": "code",
   "execution_count": 14,
   "id": "9e0c9796-6198-4a46-8273-66b6746d9987",
   "metadata": {},
   "outputs": [],
   "source": [
    "X_train, X_test, y_train, y_test = train_test_split(X, y, test_size=0.20)\n",
    "sc=StandardScaler()\n",
    "X_train=sc.fit_transform(X_train)\n",
    "X_test=sc.transform(X_test)"
   ]
  },
  {
   "cell_type": "code",
   "execution_count": 19,
   "id": "abad183e-cd15-4cdb-a4cf-e2870344af96",
   "metadata": {},
   "outputs": [],
   "source": [
    "def sigmoid(x):\n",
    "    return 1/(1+np.exp(-x))\n",
    "\n",
    "class LogRegSimple():\n",
    "    def __init__(self, lr=0.1, n_epoch=100):\n",
    "        self.lr=lr\n",
    "        self.n_epoch=n_epoch\n",
    "        self.weights=None\n",
    "        self.bias=None\n",
    "\n",
    "    def __forward__(self, X):\n",
    "        return sigmoid(np.dot(X, self.weights)+self.bias)\n",
    "\n",
    "    def fit(self, X, y):\n",
    "        self.weights=np.array([0,0])\n",
    "        self.bias=0\n",
    "\n",
    "\n",
    "        for epoch in range(self.n_epoch):\n",
    "            y_pred=self.__forward__(X)\n",
    "            loss=(np.dot(-y, np.log(y_pred))-np.dot(1-y, np.log(1-y_pred)))/X.shape[0]\n",
    "\n",
    "            self.weights=self.weights+self.lr*np.dot(X.T, y-y_pred)/X.shape[0]\n",
    "            self.bias+=self.lr*(y-y_pred).mean()\n",
    "\n",
    "        return self\n",
    "\n",
    "    def predict(self, X):\n",
    "        return self.__forward__(X).round()\n",
    "    def param(self):\n",
    "        return self.weights, self.bias"
   ]
  },
  {
   "cell_type": "code",
   "execution_count": 29,
   "id": "9c841ba6-5c75-4f18-8111-10920bddc8d4",
   "metadata": {},
   "outputs": [
    {
     "ename": "ValueError",
     "evalue": "shapes (280,33) and (2,) not aligned: 33 (dim 1) != 2 (dim 0)",
     "output_type": "error",
     "traceback": [
      "\u001b[0;31m---------------------------------------------------------------------------\u001b[0m",
      "\u001b[0;31mValueError\u001b[0m                                Traceback (most recent call last)",
      "Cell \u001b[0;32mIn[29], line 2\u001b[0m\n\u001b[1;32m      1\u001b[0m model\u001b[38;5;241m=\u001b[39mLogRegSimple(lr\u001b[38;5;241m=\u001b[39m\u001b[38;5;241m0.1\u001b[39m,n_epoch\u001b[38;5;241m=\u001b[39m\u001b[38;5;241m200\u001b[39m)\n\u001b[0;32m----> 2\u001b[0m model\u001b[38;5;241m.\u001b[39mfit(X_train, y_train)\n\u001b[1;32m      4\u001b[0m X_2d \u001b[38;5;241m=\u001b[39m X_train[:, :\u001b[38;5;241m2\u001b[39m] \n\u001b[1;32m      5\u001b[0m model_2d \u001b[38;5;241m=\u001b[39m LogRegSimple(lr\u001b[38;5;241m=\u001b[39m\u001b[38;5;241m0.1\u001b[39m, n_epoch\u001b[38;5;241m=\u001b[39m\u001b[38;5;241m200\u001b[39m)\n",
      "Cell \u001b[0;32mIn[19], line 20\u001b[0m, in \u001b[0;36mLogRegSimple.fit\u001b[0;34m(self, X, y)\u001b[0m\n\u001b[1;32m     16\u001b[0m \u001b[38;5;28mself\u001b[39m\u001b[38;5;241m.\u001b[39mbias\u001b[38;5;241m=\u001b[39m\u001b[38;5;241m0\u001b[39m\n\u001b[1;32m     19\u001b[0m \u001b[38;5;28;01mfor\u001b[39;00m epoch \u001b[38;5;129;01min\u001b[39;00m \u001b[38;5;28mrange\u001b[39m(\u001b[38;5;28mself\u001b[39m\u001b[38;5;241m.\u001b[39mn_epoch):\n\u001b[0;32m---> 20\u001b[0m     y_pred\u001b[38;5;241m=\u001b[39m\u001b[38;5;28mself\u001b[39m\u001b[38;5;241m.\u001b[39m__forward__(X)\n\u001b[1;32m     21\u001b[0m     loss\u001b[38;5;241m=\u001b[39m(np\u001b[38;5;241m.\u001b[39mdot(\u001b[38;5;241m-\u001b[39my, np\u001b[38;5;241m.\u001b[39mlog(y_pred))\u001b[38;5;241m-\u001b[39mnp\u001b[38;5;241m.\u001b[39mdot(\u001b[38;5;241m1\u001b[39m\u001b[38;5;241m-\u001b[39my, np\u001b[38;5;241m.\u001b[39mlog(\u001b[38;5;241m1\u001b[39m\u001b[38;5;241m-\u001b[39my_pred)))\u001b[38;5;241m/\u001b[39mX\u001b[38;5;241m.\u001b[39mshape[\u001b[38;5;241m0\u001b[39m]\n\u001b[1;32m     23\u001b[0m     \u001b[38;5;28mself\u001b[39m\u001b[38;5;241m.\u001b[39mweights\u001b[38;5;241m=\u001b[39m\u001b[38;5;28mself\u001b[39m\u001b[38;5;241m.\u001b[39mweights\u001b[38;5;241m+\u001b[39m\u001b[38;5;28mself\u001b[39m\u001b[38;5;241m.\u001b[39mlr\u001b[38;5;241m*\u001b[39mnp\u001b[38;5;241m.\u001b[39mdot(X\u001b[38;5;241m.\u001b[39mT, y\u001b[38;5;241m-\u001b[39my_pred)\u001b[38;5;241m/\u001b[39mX\u001b[38;5;241m.\u001b[39mshape[\u001b[38;5;241m0\u001b[39m]\n",
      "Cell \u001b[0;32mIn[19], line 12\u001b[0m, in \u001b[0;36mLogRegSimple.__forward__\u001b[0;34m(self, X)\u001b[0m\n\u001b[1;32m     11\u001b[0m \u001b[38;5;28;01mdef\u001b[39;00m\u001b[38;5;250m \u001b[39m\u001b[38;5;21m__forward__\u001b[39m(\u001b[38;5;28mself\u001b[39m, X):\n\u001b[0;32m---> 12\u001b[0m     \u001b[38;5;28;01mreturn\u001b[39;00m sigmoid(np\u001b[38;5;241m.\u001b[39mdot(X, \u001b[38;5;28mself\u001b[39m\u001b[38;5;241m.\u001b[39mweights)\u001b[38;5;241m+\u001b[39m\u001b[38;5;28mself\u001b[39m\u001b[38;5;241m.\u001b[39mbias)\n",
      "\u001b[0;31mValueError\u001b[0m: shapes (280,33) and (2,) not aligned: 33 (dim 1) != 2 (dim 0)"
     ]
    }
   ],
   "source": [
    "model=LogRegSimple(lr=0.1,n_epoch=200)\n",
    "model.fit(X_train, y_train)\n",
    "\n",
    "X_2d = X_train[:, :2] \n",
    "model_2d = LogRegSimple(lr=0.1, n_epoch=200)\n",
    "model_2d.fit(X_2d, y_train)\n",
    "\n",
    "w = model_2d.weights  \n",
    "b = model_2d.bias\n",
    "\n",
    "xv=np.arange(-2,5, 0.1)\n",
    "\n",
    "yv=(-xv*w[0]-b)/w[1]\n",
    "\n",
    "plt.figure(figsize=(10,10))\n",
    "plt.scatter(X_train[:,0],X_train[:,1] ,c=y_train, cmap='rainbow', edgecolors='k', s=50, alpha=0.7)\n",
    "plt.plot(xv, yv, linewidth=2, c='k')\n",
    "plt.xlim([X_train[:,0].min()-1, X_train[:,0].max()+1])\n",
    "plt.ylim([X_train[:,1].min()-1, X_train[:,1].max()+1])\n",
    "plt.grid()\n",
    "plt.show()"
   ]
  },
  {
   "cell_type": "code",
   "execution_count": null,
   "id": "972338f6-229c-4cec-b34c-bccc02f4ed7b",
   "metadata": {},
   "outputs": [],
   "source": []
  }
 ],
 "metadata": {
  "kernelspec": {
   "display_name": "Python [conda env:base] *",
   "language": "python",
   "name": "conda-base-py"
  },
  "language_info": {
   "codemirror_mode": {
    "name": "ipython",
    "version": 3
   },
   "file_extension": ".py",
   "mimetype": "text/x-python",
   "name": "python",
   "nbconvert_exporter": "python",
   "pygments_lexer": "ipython3",
   "version": "3.13.5"
  }
 },
 "nbformat": 4,
 "nbformat_minor": 5
}
