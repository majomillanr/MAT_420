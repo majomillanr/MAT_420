{
 "cells": [
  {
   "cell_type": "code",
   "execution_count": 11,
   "id": "bb0e1000-cf6d-4773-86a4-c0bca86ebaa7",
   "metadata": {},
   "outputs": [],
   "source": [
    "\t\n",
    "import numpy as np\n",
    "import matplotlib.pyplot as plt\n",
    "from matplotlib.colors import ListedColormap\n",
    "import torch\n",
    "import torch.nn as nn\n",
    "from sklearn import datasets\n",
    "from sklearn.model_selection import train_test_split\n",
    "from sklearn.linear_model import LogisticRegression, SGDClassifier\n",
    "from sklearn.preprocessing import StandardScaler\n",
    "from sklearn.metrics import confusion_matrix\n",
    "import pandas as pd\n",
    "import seaborn as sns\n",
    "\n",
    "import warnings\n",
    "warnings.filterwarnings(\"ignore\")"
   ]
  },
  {
   "cell_type": "code",
   "execution_count": 44,
   "id": "4495ce82-27e3-40e6-a1c1-21c64b93b1f9",
   "metadata": {},
   "outputs": [
    {
     "data": {
      "text/plain": [
       "(351, 34)"
      ]
     },
     "execution_count": 44,
     "metadata": {},
     "output_type": "execute_result"
    }
   ],
   "source": [
    "df=pd.read_csv('ionosphere.csv')\n",
    "X,y= dataset.iloc[ :,:-1], dataset.iloc[:, -1]\n",
    "X.shape"
   ]
  },
  {
   "cell_type": "code",
   "execution_count": 45,
   "id": "9e0c9796-6198-4a46-8273-66b6746d9987",
   "metadata": {},
   "outputs": [],
   "source": [
    "X_train, X_test, y_train, y_test = train_test_split(X, y, test_size=0.20)\n",
    "sc=StandardScaler()\n",
    "X_train=sc.fit_transform(X_train)\n",
    "X_test=sc.transform(X_test)"
   ]
  },
  {
   "cell_type": "code",
   "execution_count": 46,
   "id": "abad183e-cd15-4cdb-a4cf-e2870344af96",
   "metadata": {},
   "outputs": [],
   "source": [
    "def sigmoid(x):\n",
    "    return 1/(1+np.exp(-x))\n",
    "\n",
    "class LogRegSimple():\n",
    "    def __init__(self, lr=0.1, n_epoch=100):\n",
    "        self.lr=lr\n",
    "        self.n_epoch=n_epoch\n",
    "        self.weights=None\n",
    "        self.bias=None\n",
    "\n",
    "    def __forward__(self, X):\n",
    "        return sigmoid(np.dot(X, self.weights)+self.bias)\n",
    "\n",
    "    def fit(self, X, y):\n",
    "        self.weights=[0]*X.shape[1]\n",
    "        self.bias=0\n",
    "\n",
    "\n",
    "        for epoch in range(self.n_epoch):\n",
    "            y_pred=self.__forward__(X)\n",
    "            loss=(np.dot(-y, np.log(y_pred))-np.dot(1-y, np.log(1-y_pred)))/X.shape[0]\n",
    "\n",
    "            self.weights=self.weights+self.lr*np.dot(X.T, y-y_pred)/X.shape[0]\n",
    "            self.bias+=self.lr*(y-y_pred).mean()\n",
    "\n",
    "        return self\n",
    "\n",
    "    def predict(self, X):\n",
    "        return self.__forward__(X).round()\n",
    "    def param(self):\n",
    "        return self.weights, self.bias"
   ]
  },
  {
   "cell_type": "code",
   "execution_count": 47,
   "id": "9c841ba6-5c75-4f18-8111-10920bddc8d4",
   "metadata": {},
   "outputs": [],
   "source": [
    "model=LogRegSimple(lr=0.1,n_epoch=200)\n",
    "model.fit(X_train, y_train)\n",
    "\n",
    "X_2d = X_train[:, :2] \n",
    "model_2d = LogRegSimple(lr=0.1, n_epoch=200)\n",
    "model_2d.fit(X_2d, y_train)\n",
    "\n",
    "w = model_2d.weights  \n",
    "b = model_2d.bias\n",
    "\n",
    "xv=np.arange(-2,5, 0.1)"
   ]
  },
  {
   "cell_type": "code",
   "execution_count": 48,
   "id": "972338f6-229c-4cec-b34c-bccc02f4ed7b",
   "metadata": {},
   "outputs": [
    {
     "data": {
      "text/plain": [
       "array([[17,  6],\n",
       "       [ 3, 45]])"
      ]
     },
     "execution_count": 48,
     "metadata": {},
     "output_type": "execute_result"
    }
   ],
   "source": [
    "y_test_pred=model.predict(X_test)\n",
    "confusion_matrix(y_test,y_test_pred)"
   ]
  },
  {
   "cell_type": "code",
   "execution_count": 49,
   "id": "6b17b9bb-0d57-450b-be4f-aec46fbab441",
   "metadata": {},
   "outputs": [
    {
     "data": {
      "text/plain": [
       "array([[18,  5],\n",
       "       [ 5, 43]])"
      ]
     },
     "execution_count": 49,
     "metadata": {},
     "output_type": "execute_result"
    }
   ],
   "source": [
    "SKLLogReg = LogisticRegression()\n",
    "SKLLogReg.fit(X_train, y_train)\n",
    "predictions =SKLLogReg.predict(X_test)\n",
    "confusion_matrix(y_test, predictions)"
   ]
  },
  {
   "cell_type": "code",
   "execution_count": 50,
   "id": "ac15df06-ed72-4d00-8fac-288420ee82f8",
   "metadata": {},
   "outputs": [
    {
     "data": {
      "text/plain": [
       "array([[18,  5],\n",
       "       [ 6, 42]])"
      ]
     },
     "execution_count": 50,
     "metadata": {},
     "output_type": "execute_result"
    }
   ],
   "source": [
    "SKLLogReg2 = SGDClassifier(loss='log_loss', max_iter=200, learning_rate='constant', eta0=0.1)\n",
    "SKLLogReg2.fit(X_train, y_train)\n",
    "predictions =SKLLogReg2.predict(X_test)\n",
    "confusion_matrix(y_test, predictions)"
   ]
  },
  {
   "cell_type": "code",
   "execution_count": 55,
   "id": "9d1f869b-47bb-4515-aeee-5dbee5ef77a7",
   "metadata": {},
   "outputs": [],
   "source": [
    "X_train2=torch.tensor(X_train, dtype=torch.float)\n",
    "y_train2=torch.tensor(y_train, dtype=torch.float)\n",
    "X_test2=torch.tensor(X_test, dtype=torch.float)\n",
    "y_test2=torch.tensor(np.array(y_test), dtype=torch.float)"
   ]
  },
  {
   "cell_type": "code",
   "execution_count": 57,
   "id": "76d580bb-57de-4b22-8ebb-84ef80c1a576",
   "metadata": {},
   "outputs": [],
   "source": [
    "n_samples, n_features = X_train.shape\n",
    "y_train2=y_train2.reshape(-1, 1)\n",
    "y_test2=y_test2.reshape(-1,1)"
   ]
  },
  {
   "cell_type": "code",
   "execution_count": 58,
   "id": "6174006b-a9ae-4640-b500-bad0481afb38",
   "metadata": {},
   "outputs": [],
   "source": [
    "class PTLogisticRegression(nn.Module):\n",
    "    def __init__(self, n_features):\n",
    "        super(PTLogisticRegression, self).__init__()\n",
    "        self.linear= nn.Linear(n_features, 1)\n",
    "    def forward(self,x):\n",
    "        y_pred=torch.sigmoid(self.linear(x))\n",
    "        return y_pred"
   ]
  },
  {
   "cell_type": "code",
   "execution_count": 83,
   "id": "28bbf696-a21f-4e8a-b229-fb133d82595f",
   "metadata": {},
   "outputs": [],
   "source": [
    "lr=0.1\n",
    "n_epoch=100"
   ]
  },
  {
   "cell_type": "code",
   "execution_count": 84,
   "id": "917989e9-d0f2-411b-b385-fd0a81e1e25a",
   "metadata": {},
   "outputs": [],
   "source": [
    "model=PTLogisticRegression(n_features)\n",
    "\n",
    "lossfunc=nn.BCELoss()\n",
    "optimizer=torch.optim.SGD(model.parameters(),lr=lr, weight_decay=0)"
   ]
  },
  {
   "cell_type": "code",
   "execution_count": 85,
   "id": "2c5ac3fa-3709-4dc6-8044-dffe31c68892",
   "metadata": {},
   "outputs": [],
   "source": [
    "train_loss=[]\n",
    "test_loss=[]\n",
    "\n",
    "\n",
    "for epoch in range(n_epoch):\n",
    "    model.train()\n",
    "    y_pred=model(X_train2)\n",
    "    loss=lossfunc(y_pred, y_train2)\n",
    "    loss.backward()\n",
    "    train_loss.append(loss.item())\n",
    "    optimizer.step()\n",
    "    optimizer.zero_grad()\n",
    "\n",
    "\n",
    "\n",
    "    model.eval()\n",
    "    with torch.inference_mode():\n",
    "        y_test_pred=model(X_test2)\n",
    "        lost_test=lossfunc(y_test_pred, y_test2)\n",
    "        test_loss.append(lost_test)\n"
   ]
  },
  {
   "cell_type": "code",
   "execution_count": 86,
   "id": "653c0e52-3011-4564-a685-4a6f5d26ec81",
   "metadata": {},
   "outputs": [
    {
     "data": {
      "image/png": "[encoded data removed]",
      "text/plain": [
       "<Figure size 640x480 with 1 Axes>"
      ]
     },
     "metadata": {},
     "output_type": "display_data"
    }
   ],
   "source": [
    "fig=plt.figure()\n",
    "xv=np.arange(1, n_epoch,1)\n",
    "plt.plot(xv,train_loss[1:], 'r', label=\"Train Loss\")\n",
    "plt.plot(xv,test_loss[:-1], 'b', label=\"Test Loss\")\n",
    "plt.xlabel(\"Epoch\")\n",
    "plt.ylabel(\"Loss\")\n",
    "plt.legend()\n",
    "plt.grid()\n",
    "plt.show()"
   ]
  },
  {
   "cell_type": "code",
   "execution_count": null,
   "id": "4fd1597b-ef2a-4812-a6f9-f0cc053f84f9",
   "metadata": {},
   "outputs": [],
   "source": []
  }
 ],
 "metadata": {
  "kernelspec": {
   "display_name": "Python [conda env:base] *",
   "language": "python",
   "name": "conda-base-py"
  },
  "language_info": {
   "codemirror_mode": {
    "name": "ipython",
    "version": 3
   },
   "file_extension": ".py",
   "mimetype": "text/x-python",
   "name": "python",
   "nbconvert_exporter": "python",
   "pygments_lexer": "ipython3",
   "version": "3.13.5"
  }
 },
 "nbformat": 4,
 "nbformat_minor": 5
}
